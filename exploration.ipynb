{
 "cells": [
  {
   "cell_type": "markdown",
   "id": "d7fb9780",
   "metadata": {},
   "source": [
    "# Explore (Exploratory Data Analysis or EDA) \n",
    "\n",
    "What is it?\n",
    "\n",
    "- We explore the interactions of the attributes and target variable\n",
    "- Pipeline: Plan - Acquire - Prepare - **Explore** - Model - Deliver\n",
    "\n",
    "What do we care?\n",
    "\n",
    "- Learn the vast majority of our takeaways and interesting stories from the data\n",
    "- This section of the pipeline allows us to provide business insights\n",
    "- This section determine which features to send into our model "
   ]
  },
  {
   "cell_type": "markdown",
   "id": "92966c74",
   "metadata": {},
   "source": [
    "### Overall Process\n",
    "\n",
    "Acquire\n",
    "- get the data into a dataframe \n",
    "\n",
    "Prepare\n",
    "- perform univariate stats\n",
    "- clean up your data\n",
    "- split your data\n",
    "\n",
    "Explore\n",
    "- work only with train data\n",
    "- explore features\n",
    "    - bivariate stats\n",
    "    - multivariate stats\n",
    "- final takeaways from this section\n",
    "\n",
    "Model\n",
    "- to be discussed!"
   ]
  },
  {
   "cell_type": "markdown",
   "id": "416f691f",
   "metadata": {},
   "source": [
    "### Explore features process\n",
    "\n",
    "1. Hypothesize\n",
    "    - Write out your question about how your features interact with each other or with the target variable\n",
    "    - Write this in normal language (not a statistical hypotheses)\n",
    "\n",
    "\n",
    "2. Visualize\n",
    "    - Plot the features in your question\n",
    "    - Use the appropriate plot for your types of varibles (categorical vs continuous)\n",
    "\n",
    "\n",
    "3. Analyze (with statistics)\n",
    "    - Test your question with a statistical test\n",
    "    - Use the appropriate statistical tests for your types of varibles (categorical vs continuous)\n",
    "\n",
    "\n",
    "4. Summarize\n",
    "    - Write the takeaway from your question, plot, and stats test"
   ]
  },
  {
   "cell_type": "markdown",
   "id": "da09ed01",
   "metadata": {},
   "source": [
    "### Guidance for explore features process\n",
    "\n",
    "1. Univariate Stats\n",
    "    - single variable\n",
    "    - histograms\n",
    "    - valuecounts\n",
    "    - look for normal distributions\n",
    "    - identify outliers\n",
    "    \n",
    "\n",
    "2. Bivariate Stats\n",
    "    - two variables\n",
    "    - plot the interactions of two variables\n",
    "\n",
    "\n",
    "3. Multivariate Stats \n",
    "    - more than 2 variables\n",
    "    - use color to represent a categorical variable\n",
    "    - ensure the plot selected is appropriate for the other variables\n",
    "\n",
    "\n",
    "4. Statistical Tests\n",
    "    - continuous to continuous: correlation\n",
    "    - categorical to categorical: chi^2 \n",
    "    - continuous to categorical: ttest or appropriate comparing means"
   ]
  },
  {
   "cell_type": "markdown",
   "id": "a0938825",
   "metadata": {},
   "source": [
    "## Continue with the Titanic Dataset"
   ]
  },
  {
   "cell_type": "code",
   "execution_count": 7,
   "id": "ab13b4fa",
   "metadata": {},
   "outputs": [],
   "source": [
    "import acquire\n",
    "import prepare\n",
    "import pandas as pd\n",
    "import numpy as np\n",
    "import matplotlib.pyplot as plt\n",
    "import seaborn as sns\n",
    "from scipy import stats\n",
    "#data wrangling imports\n",
    "\n",
    "#vizualizations \n",
    "\n",
    "#stats\n",
    "\n",
    "#my files\n"
   ]
  },
  {
   "cell_type": "markdown",
   "id": "2694643c",
   "metadata": {},
   "source": [
    "## Acquire"
   ]
  },
  {
   "cell_type": "code",
   "execution_count": 3,
   "id": "dc7beb43",
   "metadata": {},
   "outputs": [],
   "source": [
    "#get the data using my function in my acquire file\n",
    "titanic_df = acquire.get_titanic_data()\n",
    "titanic_df = prepare.prep_titanic(titanic_df)"
   ]
  },
  {
   "cell_type": "code",
   "execution_count": 4,
   "id": "780d21b2",
   "metadata": {},
   "outputs": [
    {
     "data": {
      "text/html": [
       "<div>\n",
       "<style scoped>\n",
       "    .dataframe tbody tr th:only-of-type {\n",
       "        vertical-align: middle;\n",
       "    }\n",
       "\n",
       "    .dataframe tbody tr th {\n",
       "        vertical-align: top;\n",
       "    }\n",
       "\n",
       "    .dataframe thead th {\n",
       "        text-align: right;\n",
       "    }\n",
       "</style>\n",
       "<table border=\"1\" class=\"dataframe\">\n",
       "  <thead>\n",
       "    <tr style=\"text-align: right;\">\n",
       "      <th></th>\n",
       "      <th>survived</th>\n",
       "      <th>pclass</th>\n",
       "      <th>age</th>\n",
       "      <th>sibsp</th>\n",
       "      <th>parch</th>\n",
       "      <th>fare</th>\n",
       "      <th>alone</th>\n",
       "      <th>sex_male</th>\n",
       "      <th>embark_town_Queenstown</th>\n",
       "      <th>embark_town_Southampton</th>\n",
       "    </tr>\n",
       "  </thead>\n",
       "  <tbody>\n",
       "    <tr>\n",
       "      <th>0</th>\n",
       "      <td>0</td>\n",
       "      <td>3</td>\n",
       "      <td>22.0</td>\n",
       "      <td>1</td>\n",
       "      <td>0</td>\n",
       "      <td>7.2500</td>\n",
       "      <td>0</td>\n",
       "      <td>1</td>\n",
       "      <td>0</td>\n",
       "      <td>1</td>\n",
       "    </tr>\n",
       "    <tr>\n",
       "      <th>1</th>\n",
       "      <td>1</td>\n",
       "      <td>1</td>\n",
       "      <td>38.0</td>\n",
       "      <td>1</td>\n",
       "      <td>0</td>\n",
       "      <td>71.2833</td>\n",
       "      <td>0</td>\n",
       "      <td>0</td>\n",
       "      <td>0</td>\n",
       "      <td>0</td>\n",
       "    </tr>\n",
       "    <tr>\n",
       "      <th>2</th>\n",
       "      <td>1</td>\n",
       "      <td>3</td>\n",
       "      <td>26.0</td>\n",
       "      <td>0</td>\n",
       "      <td>0</td>\n",
       "      <td>7.9250</td>\n",
       "      <td>1</td>\n",
       "      <td>0</td>\n",
       "      <td>0</td>\n",
       "      <td>1</td>\n",
       "    </tr>\n",
       "    <tr>\n",
       "      <th>3</th>\n",
       "      <td>1</td>\n",
       "      <td>1</td>\n",
       "      <td>35.0</td>\n",
       "      <td>1</td>\n",
       "      <td>0</td>\n",
       "      <td>53.1000</td>\n",
       "      <td>0</td>\n",
       "      <td>0</td>\n",
       "      <td>0</td>\n",
       "      <td>1</td>\n",
       "    </tr>\n",
       "    <tr>\n",
       "      <th>4</th>\n",
       "      <td>0</td>\n",
       "      <td>3</td>\n",
       "      <td>35.0</td>\n",
       "      <td>0</td>\n",
       "      <td>0</td>\n",
       "      <td>8.0500</td>\n",
       "      <td>1</td>\n",
       "      <td>1</td>\n",
       "      <td>0</td>\n",
       "      <td>1</td>\n",
       "    </tr>\n",
       "  </tbody>\n",
       "</table>\n",
       "</div>"
      ],
      "text/plain": [
       "   survived  pclass   age  sibsp  parch     fare  alone  sex_male  \\\n",
       "0         0       3  22.0      1      0   7.2500      0         1   \n",
       "1         1       1  38.0      1      0  71.2833      0         0   \n",
       "2         1       3  26.0      0      0   7.9250      1         0   \n",
       "3         1       1  35.0      1      0  53.1000      0         0   \n",
       "4         0       3  35.0      0      0   8.0500      1         1   \n",
       "\n",
       "   embark_town_Queenstown  embark_town_Southampton  \n",
       "0                       0                        1  \n",
       "1                       0                        0  \n",
       "2                       0                        1  \n",
       "3                       0                        1  \n",
       "4                       0                        1  "
      ]
     },
     "execution_count": 4,
     "metadata": {},
     "output_type": "execute_result"
    }
   ],
   "source": [
    "#look at it\n",
    "titanic_df.head()"
   ]
  },
  {
   "cell_type": "code",
   "execution_count": 5,
   "id": "01ec198e",
   "metadata": {},
   "outputs": [
    {
     "name": "stdout",
     "output_type": "stream",
     "text": [
      "<class 'pandas.core.frame.DataFrame'>\n",
      "RangeIndex: 891 entries, 0 to 890\n",
      "Data columns (total 10 columns):\n",
      " #   Column                   Non-Null Count  Dtype  \n",
      "---  ------                   --------------  -----  \n",
      " 0   survived                 891 non-null    int64  \n",
      " 1   pclass                   891 non-null    int64  \n",
      " 2   age                      714 non-null    float64\n",
      " 3   sibsp                    891 non-null    int64  \n",
      " 4   parch                    891 non-null    int64  \n",
      " 5   fare                     891 non-null    float64\n",
      " 6   alone                    891 non-null    int64  \n",
      " 7   sex_male                 891 non-null    uint8  \n",
      " 8   embark_town_Queenstown   891 non-null    uint8  \n",
      " 9   embark_town_Southampton  891 non-null    uint8  \n",
      "dtypes: float64(2), int64(5), uint8(3)\n",
      "memory usage: 51.5 KB\n"
     ]
    }
   ],
   "source": [
    "titanic_df.info()"
   ]
  },
  {
   "cell_type": "markdown",
   "id": "97e3c1f6",
   "metadata": {},
   "source": [
    "## Prepare"
   ]
  },
  {
   "cell_type": "code",
   "execution_count": 9,
   "id": "1a011133",
   "metadata": {},
   "outputs": [],
   "source": [
    "#clean and split my data using my function in my prepare file\n",
    "train, validate, test =  prepare.split_data(titanic_df, 'survived')"
   ]
  },
  {
   "cell_type": "code",
   "execution_count": 10,
   "id": "c60931b7",
   "metadata": {},
   "outputs": [
    {
     "data": {
      "text/html": [
       "<div>\n",
       "<style scoped>\n",
       "    .dataframe tbody tr th:only-of-type {\n",
       "        vertical-align: middle;\n",
       "    }\n",
       "\n",
       "    .dataframe tbody tr th {\n",
       "        vertical-align: top;\n",
       "    }\n",
       "\n",
       "    .dataframe thead th {\n",
       "        text-align: right;\n",
       "    }\n",
       "</style>\n",
       "<table border=\"1\" class=\"dataframe\">\n",
       "  <thead>\n",
       "    <tr style=\"text-align: right;\">\n",
       "      <th></th>\n",
       "      <th>survived</th>\n",
       "      <th>pclass</th>\n",
       "      <th>age</th>\n",
       "      <th>sibsp</th>\n",
       "      <th>parch</th>\n",
       "      <th>fare</th>\n",
       "      <th>alone</th>\n",
       "      <th>sex_male</th>\n",
       "      <th>embark_town_Queenstown</th>\n",
       "      <th>embark_town_Southampton</th>\n",
       "    </tr>\n",
       "  </thead>\n",
       "  <tbody>\n",
       "    <tr>\n",
       "      <th>455</th>\n",
       "      <td>1</td>\n",
       "      <td>3</td>\n",
       "      <td>29.0</td>\n",
       "      <td>0</td>\n",
       "      <td>0</td>\n",
       "      <td>7.8958</td>\n",
       "      <td>1</td>\n",
       "      <td>1</td>\n",
       "      <td>0</td>\n",
       "      <td>0</td>\n",
       "    </tr>\n",
       "    <tr>\n",
       "      <th>380</th>\n",
       "      <td>1</td>\n",
       "      <td>1</td>\n",
       "      <td>42.0</td>\n",
       "      <td>0</td>\n",
       "      <td>0</td>\n",
       "      <td>227.5250</td>\n",
       "      <td>1</td>\n",
       "      <td>0</td>\n",
       "      <td>0</td>\n",
       "      <td>0</td>\n",
       "    </tr>\n",
       "    <tr>\n",
       "      <th>492</th>\n",
       "      <td>0</td>\n",
       "      <td>1</td>\n",
       "      <td>55.0</td>\n",
       "      <td>0</td>\n",
       "      <td>0</td>\n",
       "      <td>30.5000</td>\n",
       "      <td>1</td>\n",
       "      <td>1</td>\n",
       "      <td>0</td>\n",
       "      <td>1</td>\n",
       "    </tr>\n",
       "    <tr>\n",
       "      <th>55</th>\n",
       "      <td>1</td>\n",
       "      <td>1</td>\n",
       "      <td>NaN</td>\n",
       "      <td>0</td>\n",
       "      <td>0</td>\n",
       "      <td>35.5000</td>\n",
       "      <td>1</td>\n",
       "      <td>1</td>\n",
       "      <td>0</td>\n",
       "      <td>1</td>\n",
       "    </tr>\n",
       "    <tr>\n",
       "      <th>243</th>\n",
       "      <td>0</td>\n",
       "      <td>3</td>\n",
       "      <td>22.0</td>\n",
       "      <td>0</td>\n",
       "      <td>0</td>\n",
       "      <td>7.1250</td>\n",
       "      <td>1</td>\n",
       "      <td>1</td>\n",
       "      <td>0</td>\n",
       "      <td>1</td>\n",
       "    </tr>\n",
       "  </tbody>\n",
       "</table>\n",
       "</div>"
      ],
      "text/plain": [
       "     survived  pclass   age  sibsp  parch      fare  alone  sex_male  \\\n",
       "455         1       3  29.0      0      0    7.8958      1         1   \n",
       "380         1       1  42.0      0      0  227.5250      1         0   \n",
       "492         0       1  55.0      0      0   30.5000      1         1   \n",
       "55          1       1   NaN      0      0   35.5000      1         1   \n",
       "243         0       3  22.0      0      0    7.1250      1         1   \n",
       "\n",
       "     embark_town_Queenstown  embark_town_Southampton  \n",
       "455                       0                        0  \n",
       "380                       0                        0  \n",
       "492                       0                        1  \n",
       "55                        0                        1  \n",
       "243                       0                        1  "
      ]
     },
     "execution_count": 10,
     "metadata": {},
     "output_type": "execute_result"
    }
   ],
   "source": [
    "train.head()"
   ]
  },
  {
   "cell_type": "markdown",
   "id": "b39b5601",
   "metadata": {},
   "source": [
    "### Univariate Stats"
   ]
  },
  {
   "cell_type": "code",
   "execution_count": 11,
   "id": "ffd7b338",
   "metadata": {},
   "outputs": [],
   "source": [
    "col_cat = []\n",
    "col_num = []\n",
    "\n",
    "for col in train.columns[:-3]:\n",
    "    if train[col].dtype == 'O':\n",
    "        col_cat.append(col)\n",
    "    else:\n",
    "        if len(train[col].unique()) < 4:\n",
    "            col_cat.append(col)\n",
    "        else:\n",
    "            col_num.append(col)"
   ]
  },
  {
   "cell_type": "code",
   "execution_count": 12,
   "id": "30e534fa",
   "metadata": {},
   "outputs": [
    {
     "data": {
      "text/plain": [
       "['survived', 'pclass', 'alone']"
      ]
     },
     "execution_count": 12,
     "metadata": {},
     "output_type": "execute_result"
    }
   ],
   "source": [
    "col_cat"
   ]
  },
  {
   "cell_type": "code",
   "execution_count": 13,
   "id": "a7ed9123",
   "metadata": {},
   "outputs": [
    {
     "data": {
      "text/plain": [
       "['age', 'sibsp', 'parch', 'fare']"
      ]
     },
     "execution_count": 13,
     "metadata": {},
     "output_type": "execute_result"
    }
   ],
   "source": [
    "col_num"
   ]
  },
  {
   "cell_type": "markdown",
   "id": "3ad39d1e",
   "metadata": {},
   "source": [
    "#### categorical variables"
   ]
  },
  {
   "cell_type": "code",
   "execution_count": 14,
   "id": "d4783ea3",
   "metadata": {
    "scrolled": false
   },
   "outputs": [
    {
     "name": "stdout",
     "output_type": "stream",
     "text": [
      "SURVIVED\n",
      "0    329\n",
      "1    205\n",
      "Name: survived, dtype: int64\n",
      "0    0.616105\n",
      "1    0.383895\n",
      "Name: survived, dtype: float64\n"
     ]
    },
    {
     "data": {
      "image/png": "[encoded data removed]",
      "text/plain": [
       "<Figure size 640x480 with 1 Axes>"
      ]
     },
     "metadata": {},
     "output_type": "display_data"
    },
    {
     "name": "stdout",
     "output_type": "stream",
     "text": [
      "\n",
      "PCLASS\n",
      "3    295\n",
      "1    122\n",
      "2    117\n",
      "Name: pclass, dtype: int64\n",
      "3    0.552434\n",
      "1    0.228464\n",
      "2    0.219101\n",
      "Name: pclass, dtype: float64\n"
     ]
    },
    {
     "data": {
      "image/png": "[encoded data removed]",
      "text/plain": [
       "<Figure size 640x480 with 1 Axes>"
      ]
     },
     "metadata": {},
     "output_type": "display_data"
    },
    {
     "name": "stdout",
     "output_type": "stream",
     "text": [
      "\n",
      "ALONE\n",
      "1    335\n",
      "0    199\n",
      "Name: alone, dtype: int64\n",
      "1    0.627341\n",
      "0    0.372659\n",
      "Name: alone, dtype: float64\n"
     ]
    },
    {
     "data": {
      "image/png": "[encoded data removed]",
      "text/plain": [
       "<Figure size 640x480 with 1 Axes>"
      ]
     },
     "metadata": {},
     "output_type": "display_data"
    },
    {
     "name": "stdout",
     "output_type": "stream",
     "text": [
      "\n"
     ]
    }
   ],
   "source": [
    "for col in col_cat:\n",
    "    print(col.upper())\n",
    "    print(train[col].value_counts())\n",
    "    print(train[col].value_counts(normalize=True))\n",
    "    train[col].value_counts().plot.bar()\n",
    "    plt.show()\n",
    "    print()"
   ]
  },
  {
   "cell_type": "markdown",
   "id": "deb6f9cb",
   "metadata": {},
   "source": [
    "Takeaways\n"
   ]
  },
  {
   "cell_type": "markdown",
   "id": "36520cc6",
   "metadata": {},
   "source": [
    "#### numeric variables"
   ]
  },
  {
   "cell_type": "code",
   "execution_count": 15,
   "id": "c197ddaa",
   "metadata": {
    "scrolled": false
   },
   "outputs": [
    {
     "name": "stdout",
     "output_type": "stream",
     "text": [
      "AGE\n",
      "24.00    20\n",
      "28.00    19\n",
      "21.00    18\n",
      "18.00    17\n",
      "22.00    16\n",
      "         ..\n",
      "66.00     1\n",
      "20.50     1\n",
      "32.50     1\n",
      "0.92      1\n",
      "0.83      1\n",
      "Name: age, Length: 83, dtype: int64\n",
      "AxesSubplot(0.125,0.11;0.775x0.77)\n"
     ]
    },
    {
     "data": {
      "image/png": "[encoded data removed]",
      "text/plain": [
       "<Figure size 640x480 with 1 Axes>"
      ]
     },
     "metadata": {},
     "output_type": "display_data"
    },
    {
     "name": "stdout",
     "output_type": "stream",
     "text": [
      "SIBSP\n",
      "0    378\n",
      "1    106\n",
      "2     22\n",
      "3     10\n",
      "4     10\n",
      "8      5\n",
      "5      3\n",
      "Name: sibsp, dtype: int64\n",
      "AxesSubplot(0.125,0.11;0.775x0.77)\n"
     ]
    },
    {
     "data": {
      "image/png": "[encoded data removed]",
      "text/plain": [
       "<Figure size 640x480 with 1 Axes>"
      ]
     },
     "metadata": {},
     "output_type": "display_data"
    },
    {
     "name": "stdout",
     "output_type": "stream",
     "text": [
      "PARCH\n",
      "0    414\n",
      "1     67\n",
      "2     45\n",
      "3      4\n",
      "5      3\n",
      "4      1\n",
      "Name: parch, dtype: int64\n",
      "AxesSubplot(0.125,0.11;0.775x0.77)\n"
     ]
    },
    {
     "data": {
      "image/png": "[encoded data removed]",
      "text/plain": [
       "<Figure size 640x480 with 1 Axes>"
      ]
     },
     "metadata": {},
     "output_type": "display_data"
    },
    {
     "name": "stdout",
     "output_type": "stream",
     "text": [
      "FARE\n",
      "13.0000    27\n",
      "7.8958     26\n",
      "8.0500     25\n",
      "7.7500     21\n",
      "26.0000    17\n",
      "           ..\n",
      "8.6833      1\n",
      "25.9250     1\n",
      "14.4000     1\n",
      "7.8875      1\n",
      "78.2667     1\n",
      "Name: fare, Length: 197, dtype: int64\n",
      "AxesSubplot(0.125,0.11;0.775x0.77)\n"
     ]
    },
    {
     "data": {
      "image/png": "[encoded data removed]",
      "text/plain": [
       "<Figure size 640x480 with 1 Axes>"
      ]
     },
     "metadata": {},
     "output_type": "display_data"
    }
   ],
   "source": [
    "for col in col_num:\n",
    "    print(col.upper())\n",
    "    print(train[col].value_counts())\n",
    "    print(train[col].hist())\n",
    "    plt.show()"
   ]
  },
  {
   "cell_type": "markdown",
   "id": "12ad771a",
   "metadata": {},
   "source": [
    "Takeaways\n",
    "\n",
    "there are no noteable issues<br>\n",
    "these are my catagorical variables<br>\n",
    "survived is my target variable<br>\n",
    "and has more people who didnt survive<br>\n",
    "not a normal distribution for fare<br>\n",
    "bin higher values and see if it is normally distributed<br>"
   ]
  },
  {
   "cell_type": "markdown",
   "id": "d560b10f",
   "metadata": {},
   "source": [
    "### Bivariate Stats\n",
    "-USE TRAIN DATASET ONLY-\n",
    "\n",
    "1. Hypothesize\n",
    "2. Visualize\n",
    "3. Analyze (with statistics)\n",
    "4. Summarize"
   ]
  },
  {
   "cell_type": "code",
   "execution_count": 16,
   "id": "3480266c",
   "metadata": {},
   "outputs": [
    {
     "data": {
      "text/html": [
       "<div>\n",
       "<style scoped>\n",
       "    .dataframe tbody tr th:only-of-type {\n",
       "        vertical-align: middle;\n",
       "    }\n",
       "\n",
       "    .dataframe tbody tr th {\n",
       "        vertical-align: top;\n",
       "    }\n",
       "\n",
       "    .dataframe thead th {\n",
       "        text-align: right;\n",
       "    }\n",
       "</style>\n",
       "<table border=\"1\" class=\"dataframe\">\n",
       "  <thead>\n",
       "    <tr style=\"text-align: right;\">\n",
       "      <th></th>\n",
       "      <th>survived</th>\n",
       "      <th>pclass</th>\n",
       "      <th>age</th>\n",
       "      <th>sibsp</th>\n",
       "      <th>parch</th>\n",
       "      <th>fare</th>\n",
       "      <th>alone</th>\n",
       "      <th>sex_male</th>\n",
       "      <th>embark_town_Queenstown</th>\n",
       "      <th>embark_town_Southampton</th>\n",
       "    </tr>\n",
       "  </thead>\n",
       "  <tbody>\n",
       "    <tr>\n",
       "      <th>455</th>\n",
       "      <td>1</td>\n",
       "      <td>3</td>\n",
       "      <td>29.0</td>\n",
       "      <td>0</td>\n",
       "      <td>0</td>\n",
       "      <td>7.8958</td>\n",
       "      <td>1</td>\n",
       "      <td>1</td>\n",
       "      <td>0</td>\n",
       "      <td>0</td>\n",
       "    </tr>\n",
       "    <tr>\n",
       "      <th>380</th>\n",
       "      <td>1</td>\n",
       "      <td>1</td>\n",
       "      <td>42.0</td>\n",
       "      <td>0</td>\n",
       "      <td>0</td>\n",
       "      <td>227.5250</td>\n",
       "      <td>1</td>\n",
       "      <td>0</td>\n",
       "      <td>0</td>\n",
       "      <td>0</td>\n",
       "    </tr>\n",
       "    <tr>\n",
       "      <th>492</th>\n",
       "      <td>0</td>\n",
       "      <td>1</td>\n",
       "      <td>55.0</td>\n",
       "      <td>0</td>\n",
       "      <td>0</td>\n",
       "      <td>30.5000</td>\n",
       "      <td>1</td>\n",
       "      <td>1</td>\n",
       "      <td>0</td>\n",
       "      <td>1</td>\n",
       "    </tr>\n",
       "    <tr>\n",
       "      <th>55</th>\n",
       "      <td>1</td>\n",
       "      <td>1</td>\n",
       "      <td>NaN</td>\n",
       "      <td>0</td>\n",
       "      <td>0</td>\n",
       "      <td>35.5000</td>\n",
       "      <td>1</td>\n",
       "      <td>1</td>\n",
       "      <td>0</td>\n",
       "      <td>1</td>\n",
       "    </tr>\n",
       "    <tr>\n",
       "      <th>243</th>\n",
       "      <td>0</td>\n",
       "      <td>3</td>\n",
       "      <td>22.0</td>\n",
       "      <td>0</td>\n",
       "      <td>0</td>\n",
       "      <td>7.1250</td>\n",
       "      <td>1</td>\n",
       "      <td>1</td>\n",
       "      <td>0</td>\n",
       "      <td>1</td>\n",
       "    </tr>\n",
       "  </tbody>\n",
       "</table>\n",
       "</div>"
      ],
      "text/plain": [
       "     survived  pclass   age  sibsp  parch      fare  alone  sex_male  \\\n",
       "455         1       3  29.0      0      0    7.8958      1         1   \n",
       "380         1       1  42.0      0      0  227.5250      1         0   \n",
       "492         0       1  55.0      0      0   30.5000      1         1   \n",
       "55          1       1   NaN      0      0   35.5000      1         1   \n",
       "243         0       3  22.0      0      0    7.1250      1         1   \n",
       "\n",
       "     embark_town_Queenstown  embark_town_Southampton  \n",
       "455                       0                        0  \n",
       "380                       0                        0  \n",
       "492                       0                        1  \n",
       "55                        0                        1  \n",
       "243                       0                        1  "
      ]
     },
     "execution_count": 16,
     "metadata": {},
     "output_type": "execute_result"
    }
   ],
   "source": [
    "train.head()"
   ]
  },
  {
   "cell_type": "markdown",
   "id": "ec2979b5",
   "metadata": {},
   "source": [
    "#### 1. Hypothesize"
   ]
  },
  {
   "cell_type": "markdown",
   "id": "1e1264f0",
   "metadata": {},
   "source": [
    "Q: does pclass affect wether or not someone survived?\n",
    "\n",
    "what type of variables am i comparing?<br>\n",
    "pclass and survived"
   ]
  },
  {
   "cell_type": "markdown",
   "id": "484cf524",
   "metadata": {},
   "source": [
    "#### 2. Visualize\n",
    "\n",
    "what type of plot can i use for this?"
   ]
  },
  {
   "cell_type": "code",
   "execution_count": 21,
   "id": "08cf07fc",
   "metadata": {},
   "outputs": [
    {
     "data": {
      "image/png": "[encoded data removed]",
      "text/plain": [
       "<Figure size 640x480 with 1 Axes>"
      ]
     },
     "metadata": {},
     "output_type": "display_data"
    }
   ],
   "source": [
    "sns.barplot(data = train, x='pclass', y= 'survived')\n",
    "plt.show()\n",
    "\n"
   ]
  },
  {
   "cell_type": "code",
   "execution_count": null,
   "id": "fbac664a",
   "metadata": {},
   "outputs": [],
   "source": []
  },
  {
   "cell_type": "markdown",
   "id": "836dcea9",
   "metadata": {},
   "source": [
    "#### 3. Analyze (with stats)"
   ]
  },
  {
   "cell_type": "markdown",
   "id": "49904985",
   "metadata": {},
   "source": [
    "what type of stats test should i use for this?\n",
    "\n",
    "\n",
    "$H_0$: plcass is independed of survived\n",
    "\n",
    "$H_a$: pclass is dependent on survived\n",
    "\n",
    "alpha = .05"
   ]
  },
  {
   "cell_type": "code",
   "execution_count": 24,
   "id": "1361da9a",
   "metadata": {},
   "outputs": [],
   "source": [
    "observed = pd.crosstab(train.pclass, train.survived)"
   ]
  },
  {
   "cell_type": "code",
   "execution_count": 25,
   "id": "b15e4e14",
   "metadata": {},
   "outputs": [],
   "source": [
    "chi2, p, degf, expected = stats.chi2_contingency(observed)"
   ]
  },
  {
   "cell_type": "code",
   "execution_count": 26,
   "id": "8e68dbdd",
   "metadata": {},
   "outputs": [
    {
     "data": {
      "text/plain": [
       "1.4382038993307037e-13"
      ]
     },
     "execution_count": 26,
     "metadata": {},
     "output_type": "execute_result"
    }
   ],
   "source": [
    "p"
   ]
  },
  {
   "cell_type": "markdown",
   "id": "58c50ba3",
   "metadata": {},
   "source": [
    "#### 4. Summarize"
   ]
  },
  {
   "cell_type": "markdown",
   "id": "32f9a5d3",
   "metadata": {},
   "source": [
    "p value is less than alpha therefore we reject the null hypotheis<br>\n",
    "\n",
    "there is a relationship between pclass and survived"
   ]
  },
  {
   "cell_type": "markdown",
   "id": "edc47f95",
   "metadata": {},
   "source": [
    "### Repeat"
   ]
  },
  {
   "cell_type": "code",
   "execution_count": 28,
   "id": "d610be7b",
   "metadata": {},
   "outputs": [
    {
     "data": {
      "text/html": [
       "<div>\n",
       "<style scoped>\n",
       "    .dataframe tbody tr th:only-of-type {\n",
       "        vertical-align: middle;\n",
       "    }\n",
       "\n",
       "    .dataframe tbody tr th {\n",
       "        vertical-align: top;\n",
       "    }\n",
       "\n",
       "    .dataframe thead th {\n",
       "        text-align: right;\n",
       "    }\n",
       "</style>\n",
       "<table border=\"1\" class=\"dataframe\">\n",
       "  <thead>\n",
       "    <tr style=\"text-align: right;\">\n",
       "      <th></th>\n",
       "      <th>survived</th>\n",
       "      <th>pclass</th>\n",
       "      <th>age</th>\n",
       "      <th>sibsp</th>\n",
       "      <th>parch</th>\n",
       "      <th>fare</th>\n",
       "      <th>alone</th>\n",
       "      <th>sex_male</th>\n",
       "      <th>embark_town_Queenstown</th>\n",
       "      <th>embark_town_Southampton</th>\n",
       "    </tr>\n",
       "  </thead>\n",
       "  <tbody>\n",
       "    <tr>\n",
       "      <th>455</th>\n",
       "      <td>1</td>\n",
       "      <td>3</td>\n",
       "      <td>29.0</td>\n",
       "      <td>0</td>\n",
       "      <td>0</td>\n",
       "      <td>7.8958</td>\n",
       "      <td>1</td>\n",
       "      <td>1</td>\n",
       "      <td>0</td>\n",
       "      <td>0</td>\n",
       "    </tr>\n",
       "    <tr>\n",
       "      <th>380</th>\n",
       "      <td>1</td>\n",
       "      <td>1</td>\n",
       "      <td>42.0</td>\n",
       "      <td>0</td>\n",
       "      <td>0</td>\n",
       "      <td>227.5250</td>\n",
       "      <td>1</td>\n",
       "      <td>0</td>\n",
       "      <td>0</td>\n",
       "      <td>0</td>\n",
       "    </tr>\n",
       "    <tr>\n",
       "      <th>492</th>\n",
       "      <td>0</td>\n",
       "      <td>1</td>\n",
       "      <td>55.0</td>\n",
       "      <td>0</td>\n",
       "      <td>0</td>\n",
       "      <td>30.5000</td>\n",
       "      <td>1</td>\n",
       "      <td>1</td>\n",
       "      <td>0</td>\n",
       "      <td>1</td>\n",
       "    </tr>\n",
       "    <tr>\n",
       "      <th>55</th>\n",
       "      <td>1</td>\n",
       "      <td>1</td>\n",
       "      <td>NaN</td>\n",
       "      <td>0</td>\n",
       "      <td>0</td>\n",
       "      <td>35.5000</td>\n",
       "      <td>1</td>\n",
       "      <td>1</td>\n",
       "      <td>0</td>\n",
       "      <td>1</td>\n",
       "    </tr>\n",
       "    <tr>\n",
       "      <th>243</th>\n",
       "      <td>0</td>\n",
       "      <td>3</td>\n",
       "      <td>22.0</td>\n",
       "      <td>0</td>\n",
       "      <td>0</td>\n",
       "      <td>7.1250</td>\n",
       "      <td>1</td>\n",
       "      <td>1</td>\n",
       "      <td>0</td>\n",
       "      <td>1</td>\n",
       "    </tr>\n",
       "  </tbody>\n",
       "</table>\n",
       "</div>"
      ],
      "text/plain": [
       "     survived  pclass   age  sibsp  parch      fare  alone  sex_male  \\\n",
       "455         1       3  29.0      0      0    7.8958      1         1   \n",
       "380         1       1  42.0      0      0  227.5250      1         0   \n",
       "492         0       1  55.0      0      0   30.5000      1         1   \n",
       "55          1       1   NaN      0      0   35.5000      1         1   \n",
       "243         0       3  22.0      0      0    7.1250      1         1   \n",
       "\n",
       "     embark_town_Queenstown  embark_town_Southampton  \n",
       "455                       0                        0  \n",
       "380                       0                        0  \n",
       "492                       0                        1  \n",
       "55                        0                        1  \n",
       "243                       0                        1  "
      ]
     },
     "execution_count": 28,
     "metadata": {},
     "output_type": "execute_result"
    }
   ],
   "source": [
    "train.head()"
   ]
  },
  {
   "cell_type": "markdown",
   "id": "459a5d17",
   "metadata": {},
   "source": [
    "#### 1. Hypothesize"
   ]
  },
  {
   "cell_type": "markdown",
   "id": "e6dffea7",
   "metadata": {},
   "source": [
    "Q: does fare indicate whether or not someone survived?"
   ]
  },
  {
   "cell_type": "markdown",
   "id": "dc2e43e4",
   "metadata": {},
   "source": [
    "what type of variables am i comparing?<br>\n",
    "fare and survived<br>\n",
    "fare is continuous<br>\n",
    "surived is catagorical<br>\n",
    "\n"
   ]
  },
  {
   "cell_type": "markdown",
   "id": "3dea3027",
   "metadata": {},
   "source": [
    "#### 2. Visualize"
   ]
  },
  {
   "cell_type": "markdown",
   "id": "2778512f",
   "metadata": {},
   "source": [
    "what kind of plot can i use? \n"
   ]
  },
  {
   "cell_type": "markdown",
   "id": "74e3731c",
   "metadata": {},
   "source": [
    "-boxplot<br>\n",
    "-swarmplot<br>\n",
    "-violinplot<br>\n",
    "-stripplot"
   ]
  },
  {
   "cell_type": "code",
   "execution_count": 36,
   "id": "d8004ded",
   "metadata": {
    "scrolled": false
   },
   "outputs": [
    {
     "data": {
      "image/png": "[encoded data removed]",
      "text/plain": [
       "<Figure size 1200x800 with 1 Axes>"
      ]
     },
     "metadata": {},
     "output_type": "display_data"
    },
    {
     "data": {
      "image/png": "[encoded data removed]",
      "text/plain": [
       "<Figure size 640x480 with 1 Axes>"
      ]
     },
     "metadata": {},
     "output_type": "display_data"
    }
   ],
   "source": [
    "plt.figure(figsize=(12,8))\n",
    "sns.boxplot(data=train, x='survived',y='fare')\n",
    "plt.show()\n",
    "sns.violinplot(data=train, x='survived',y='fare')\n",
    "plt.show()\n"
   ]
  },
  {
   "cell_type": "markdown",
   "id": "3d373c3d",
   "metadata": {},
   "source": [
    "#### 3. Analyze (with statistics)"
   ]
  },
  {
   "cell_type": "markdown",
   "id": "d2802cd6",
   "metadata": {},
   "source": [
    "what type of test should i use for this?<br>\n",
    "-ttest\n",
    "\n",
    "is my continuous value normally distributed?<br>\n",
    "-no, so this means we cant use t test<br>\n",
    "\n",
    "\n",
    "am i comparing subpopulations to each other or a subpopulation to an overall population?<br>\n",
    "-we are comparing subpopulatins to each other<br>\n",
    "stats test I am moving forward with<br>\n",
    "a mann-whitney\n"
   ]
  },
  {
   "cell_type": "markdown",
   "id": "7ce1a83e",
   "metadata": {},
   "source": [
    "$H_0$: the mean of fare for people who survived and who didnt survive is the same\n",
    "\n",
    "$H_a$: the mean of fare for people who survived and who didnt survive is not the same\n",
    "\n",
    "\n",
    "alpha = 0.05"
   ]
  },
  {
   "cell_type": "code",
   "execution_count": 37,
   "id": "3048ed5a",
   "metadata": {},
   "outputs": [],
   "source": [
    "\n",
    "surv_no_fare = train [train.survived == 0].fare\n",
    "surv_yes_far = train [train.survived == 1].fare"
   ]
  },
  {
   "cell_type": "code",
   "execution_count": 40,
   "id": "8a2b16d8",
   "metadata": {},
   "outputs": [
    {
     "data": {
      "text/plain": [
       "6.831548944972857e-13"
      ]
     },
     "execution_count": 40,
     "metadata": {},
     "output_type": "execute_result"
    }
   ],
   "source": [
    "t, p = stats.mannwhitneyu(surv_no_fare, surv_yes_far)\n",
    "p"
   ]
  },
  {
   "cell_type": "markdown",
   "id": "c835c095",
   "metadata": {},
   "source": [
    "#### 4. Summarize"
   ]
  },
  {
   "cell_type": "markdown",
   "id": "9d91ac2b",
   "metadata": {},
   "source": [
    "there is a difference in the fare for people who did survive and the people who didnt<br>\n",
    "we reject the null hypothesis"
   ]
  },
  {
   "cell_type": "markdown",
   "id": "da9d0513",
   "metadata": {},
   "source": [
    "### Multivariate Stats\n",
    "-USE TRAIN DATASET ONLY-\n",
    "\n",
    "- can ask more targeted questions, like subgroup vs subgroup vs category\n",
    "- multivariate statistical tests exist, but are outside the scope of this course.\n",
    "\n",
    "1. Hypothesize\n",
    "2. Visualize\n",
    "3. ~Analyze (with statistics)~\n",
    "4. Summarize\n"
   ]
  },
  {
   "cell_type": "code",
   "execution_count": 41,
   "id": "71408c14",
   "metadata": {},
   "outputs": [
    {
     "data": {
      "text/html": [
       "<div>\n",
       "<style scoped>\n",
       "    .dataframe tbody tr th:only-of-type {\n",
       "        vertical-align: middle;\n",
       "    }\n",
       "\n",
       "    .dataframe tbody tr th {\n",
       "        vertical-align: top;\n",
       "    }\n",
       "\n",
       "    .dataframe thead th {\n",
       "        text-align: right;\n",
       "    }\n",
       "</style>\n",
       "<table border=\"1\" class=\"dataframe\">\n",
       "  <thead>\n",
       "    <tr style=\"text-align: right;\">\n",
       "      <th></th>\n",
       "      <th>survived</th>\n",
       "      <th>pclass</th>\n",
       "      <th>age</th>\n",
       "      <th>sibsp</th>\n",
       "      <th>parch</th>\n",
       "      <th>fare</th>\n",
       "      <th>alone</th>\n",
       "      <th>sex_male</th>\n",
       "      <th>embark_town_Queenstown</th>\n",
       "      <th>embark_town_Southampton</th>\n",
       "    </tr>\n",
       "  </thead>\n",
       "  <tbody>\n",
       "    <tr>\n",
       "      <th>455</th>\n",
       "      <td>1</td>\n",
       "      <td>3</td>\n",
       "      <td>29.0</td>\n",
       "      <td>0</td>\n",
       "      <td>0</td>\n",
       "      <td>7.8958</td>\n",
       "      <td>1</td>\n",
       "      <td>1</td>\n",
       "      <td>0</td>\n",
       "      <td>0</td>\n",
       "    </tr>\n",
       "    <tr>\n",
       "      <th>380</th>\n",
       "      <td>1</td>\n",
       "      <td>1</td>\n",
       "      <td>42.0</td>\n",
       "      <td>0</td>\n",
       "      <td>0</td>\n",
       "      <td>227.5250</td>\n",
       "      <td>1</td>\n",
       "      <td>0</td>\n",
       "      <td>0</td>\n",
       "      <td>0</td>\n",
       "    </tr>\n",
       "    <tr>\n",
       "      <th>492</th>\n",
       "      <td>0</td>\n",
       "      <td>1</td>\n",
       "      <td>55.0</td>\n",
       "      <td>0</td>\n",
       "      <td>0</td>\n",
       "      <td>30.5000</td>\n",
       "      <td>1</td>\n",
       "      <td>1</td>\n",
       "      <td>0</td>\n",
       "      <td>1</td>\n",
       "    </tr>\n",
       "    <tr>\n",
       "      <th>55</th>\n",
       "      <td>1</td>\n",
       "      <td>1</td>\n",
       "      <td>NaN</td>\n",
       "      <td>0</td>\n",
       "      <td>0</td>\n",
       "      <td>35.5000</td>\n",
       "      <td>1</td>\n",
       "      <td>1</td>\n",
       "      <td>0</td>\n",
       "      <td>1</td>\n",
       "    </tr>\n",
       "    <tr>\n",
       "      <th>243</th>\n",
       "      <td>0</td>\n",
       "      <td>3</td>\n",
       "      <td>22.0</td>\n",
       "      <td>0</td>\n",
       "      <td>0</td>\n",
       "      <td>7.1250</td>\n",
       "      <td>1</td>\n",
       "      <td>1</td>\n",
       "      <td>0</td>\n",
       "      <td>1</td>\n",
       "    </tr>\n",
       "  </tbody>\n",
       "</table>\n",
       "</div>"
      ],
      "text/plain": [
       "     survived  pclass   age  sibsp  parch      fare  alone  sex_male  \\\n",
       "455         1       3  29.0      0      0    7.8958      1         1   \n",
       "380         1       1  42.0      0      0  227.5250      1         0   \n",
       "492         0       1  55.0      0      0   30.5000      1         1   \n",
       "55          1       1   NaN      0      0   35.5000      1         1   \n",
       "243         0       3  22.0      0      0    7.1250      1         1   \n",
       "\n",
       "     embark_town_Queenstown  embark_town_Southampton  \n",
       "455                       0                        0  \n",
       "380                       0                        0  \n",
       "492                       0                        1  \n",
       "55                        0                        1  \n",
       "243                       0                        1  "
      ]
     },
     "execution_count": 41,
     "metadata": {},
     "output_type": "execute_result"
    }
   ],
   "source": [
    "train.head()"
   ]
  },
  {
   "cell_type": "markdown",
   "id": "71333dea",
   "metadata": {},
   "source": [
    "#### 1. Hypothesize"
   ]
  },
  {
   "cell_type": "markdown",
   "id": "16024ab9",
   "metadata": {},
   "source": [
    "Q: do males have a greater chance of survival when traveling alone?"
   ]
  },
  {
   "cell_type": "markdown",
   "id": "2a738418",
   "metadata": {},
   "source": [
    "- sex categorical\n",
    "- alone categorical\n",
    "- survived categorical"
   ]
  },
  {
   "cell_type": "markdown",
   "id": "0c186fb3",
   "metadata": {},
   "source": [
    "#### 2. Visualize"
   ]
  },
  {
   "cell_type": "code",
   "execution_count": 44,
   "id": "68d71e29",
   "metadata": {},
   "outputs": [
    {
     "data": {
      "text/plain": [
       "<AxesSubplot:xlabel='sex_male', ylabel='survived'>"
      ]
     },
     "execution_count": 44,
     "metadata": {},
     "output_type": "execute_result"
    },
    {
     "data": {
      "image/png": "[encoded data removed]",
      "text/plain": [
       "<Figure size 640x480 with 1 Axes>"
      ]
     },
     "metadata": {},
     "output_type": "display_data"
    }
   ],
   "source": [
    "sns.barplot(data =train, x= 'sex_male', y='survived', hue='alone')"
   ]
  },
  {
   "cell_type": "markdown",
   "id": "bec89a17",
   "metadata": {},
   "source": [
    "#### 3. Summarize"
   ]
  },
  {
   "cell_type": "markdown",
   "id": "38703fe8",
   "metadata": {},
   "source": [
    "## summary of all the takeaways\n",
    "\n",
    "- passenger class affected survival rate\n",
    "- fare affected survival rate \n",
    "- males survived way less than females and, were least likely to survive when traveling alone"
   ]
  },
  {
   "cell_type": "markdown",
   "id": "3a737d1c",
   "metadata": {},
   "source": [
    "## Explore Conclusions"
   ]
  },
  {
   "cell_type": "code",
   "execution_count": null,
   "id": "ca5a9328",
   "metadata": {},
   "outputs": [],
   "source": []
  },
  {
   "cell_type": "markdown",
   "id": "bf48908c",
   "metadata": {},
   "source": [
    "### Final notes on exploring"
   ]
  },
  {
   "cell_type": "markdown",
   "id": "be65a337",
   "metadata": {},
   "source": [
    "How much time do you think it will take to explore all of your features and how they relate to your target variable? \n",
    "\n",
    "- alot of time\n",
    "- therefore prioritize the features you want to compare\n",
    "- use domain knowlege to know where to prioritize\n",
    "- rotate through relationships with a for loop(at the beginning of explore)"
   ]
  },
  {
   "cell_type": "markdown",
   "id": "951a05da",
   "metadata": {},
   "source": [
    "### With more time, reiterate\n",
    "As you have more time, you can reiterate and go back through and investigate more features. \n",
    "\n",
    "Recall how we dropped the age column completetly since 20% of the values were missing? \n",
    "- add back that column \n",
    "    - maybe drop all the rows with nulls instead\n",
    "    - maybe try to replace those null values with some other value, maybe by group?\n",
    "- investigate how age affects survival now"
   ]
  },
  {
   "cell_type": "markdown",
   "id": "4df00db8",
   "metadata": {},
   "source": [
    "### Make sure you're documenting takeaways throughout your exploration! "
   ]
  },
  {
   "cell_type": "code",
   "execution_count": null,
   "id": "2370d947",
   "metadata": {},
   "outputs": [],
   "source": []
  }
 ],
 "metadata": {
  "kernelspec": {
   "display_name": "Python 3 (ipykernel)",
   "language": "python",
   "name": "python3"
  },
  "language_info": {
   "codemirror_mode": {
    "name": "ipython",
    "version": 3
   },
   "file_extension": ".py",
   "mimetype": "text/x-python",
   "name": "python",
   "nbconvert_exporter": "python",
   "pygments_lexer": "ipython3",
   "version": "3.9.13"
  }
 },
 "nbformat": 4,
 "nbformat_minor": 5
}
