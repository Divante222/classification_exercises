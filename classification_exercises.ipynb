{
 "cells": [
  {
   "cell_type": "code",
   "execution_count": 22,
   "id": "8b5e2eea",
   "metadata": {},
   "outputs": [],
   "source": [
    "import pandas as pd\n",
    "import numpy as np\n",
    "import matplotlib.pyplot as plt\n",
    "import env\n",
    "# import our own acquire module\n",
    "import acquire as acq\n",
    "from sklearn.model_selection import train_test_split"
   ]
  },
  {
   "cell_type": "code",
   "execution_count": 23,
   "id": "df6feb70",
   "metadata": {},
   "outputs": [
    {
     "ename": "TypeError",
     "evalue": "get_iris_data() missing 3 required positional arguments: 'SQL_query', 'directory', and 'url'",
     "output_type": "error",
     "traceback": [
      "\u001b[0;31m---------------------------------------------------------------------------\u001b[0m",
      "\u001b[0;31mTypeError\u001b[0m                                 Traceback (most recent call last)",
      "Input \u001b[0;32mIn [23]\u001b[0m, in \u001b[0;36m<cell line: 18>\u001b[0;34m()\u001b[0m\n\u001b[1;32m     15\u001b[0m filename \u001b[38;5;241m=\u001b[39m \u001b[38;5;124m\"\u001b[39m\u001b[38;5;124mtitanic.csv\u001b[39m\u001b[38;5;124m\"\u001b[39m\n\u001b[1;32m     16\u001b[0m directory \u001b[38;5;241m=\u001b[39m \u001b[38;5;124m'\u001b[39m\u001b[38;5;124m/Users/divante/codeup-data-science/classification_exercises\u001b[39m\u001b[38;5;124m'\u001b[39m\n\u001b[0;32m---> 18\u001b[0m iris_df \u001b[38;5;241m=\u001b[39m \u001b[43macq\u001b[49m\u001b[38;5;241;43m.\u001b[39;49m\u001b[43mget_iris_data\u001b[49m\u001b[43m(\u001b[49m\u001b[43m)\u001b[49m\n\u001b[1;32m     19\u001b[0m \u001b[38;5;66;03m# iris_df = iris_df.drop(columns= ['species_id','measurement_id'])\u001b[39;00m\n\u001b[1;32m     20\u001b[0m iris_df\n",
      "\u001b[0;31mTypeError\u001b[0m: get_iris_data() missing 3 required positional arguments: 'SQL_query', 'directory', and 'url'"
     ]
    }
   ],
   "source": [
    "# Using the Iris Data:\n",
    "\n",
    "# Use the function defined in acquire.py to load the iris data.\n",
    "\n",
    "# Drop the species_id and measurement_id columns.\n",
    "\n",
    "\n",
    "# transformations above applied.\n",
    "\n",
    "\n",
    "SQL_query = '''select * from measurements\n",
    "join species using(species_id);\n",
    ";'''    \n",
    "url= f'mysql+pymysql://{env.username}:{env.password}@{env.hostname}/iris_db'\n",
    "filename = \"titanic.csv\"\n",
    "directory = '/Users/divante/codeup-data-science/classification_exercises'\n",
    "\n",
    "iris_df = acq.get_iris_data()\n",
    "# iris_df = iris_df.drop(columns= ['species_id','measurement_id'])\n",
    "iris_df\n"
   ]
  },
  {
   "cell_type": "code",
   "execution_count": null,
   "id": "d0a9e89d",
   "metadata": {},
   "outputs": [],
   "source": [
    "# Rename the species_name column to just species.\n",
    "\n",
    "\n",
    "\n",
    "# Create dummy variables of the species name and \n",
    "# concatenate onto the iris dataframe. (This is for practice, \n",
    "# we don't always have to encode the target, \n",
    "# but if we used species as a feature, we would need to encode it).\n",
    "\n",
    "# Create a function named prep_iris that accepts the untransformed \n",
    "# iris data, and returns the data with the "
   ]
  }
 ],
 "metadata": {
  "kernelspec": {
   "display_name": "Python 3 (ipykernel)",
   "language": "python",
   "name": "python3"
  },
  "language_info": {
   "codemirror_mode": {
    "name": "ipython",
    "version": 3
   },
   "file_extension": ".py",
   "mimetype": "text/x-python",
   "name": "python",
   "nbconvert_exporter": "python",
   "pygments_lexer": "ipython3",
   "version": "3.9.13"
  }
 },
 "nbformat": 4,
 "nbformat_minor": 5
}
